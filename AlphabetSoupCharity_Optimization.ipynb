{
 "cells": [
  {
   "cell_type": "code",
   "execution_count": null,
   "metadata": {},
   "outputs": [],
   "source": [
    "# Import necessary libraries\n",
    "from sklearn.model_selection import train_test_split\n",
    "from sklearn.preprocessing import StandardScaler\n",
    "import pandas as pd\n",
    "import tensorflow as tf\n",
    "\n",
    "# Load preprocessed data\n",
    "application_df = pd.read_csv(\"path/to/preprocessed_data.csv\")\n",
    "\n",
    "# Separate features (X) and target (y)\n",
    "X = application_df.drop('IS_SUCCESSFUL', axis=1)\n",
    "y = application_df['IS_SUCCESSFUL']\n",
    "\n",
    "# Split the data into training and testing sets\n",
    "X_train, X_test, y_train, y_test = train_test_split(X, y, random_state=42, stratify=y)\n",
    "\n",
    "# Scale the data\n",
    "scaler = StandardScaler()\n",
    "X_train_scaled = scaler.fit_transform(X_train)\n",
    "X_test_scaled = scaler.transform(X_test)\n",
    "\n",
    "# Define and compile the model\n",
    "nn_opt = tf.keras.models.Sequential()\n",
    "# Add layers and nodes based on your optimization attempts\n",
    "nn_opt.add(tf.keras.layers.Dense(units=32, input_dim=len(X.columns), activation='relu'))\n",
    "nn_opt.add(tf.keras.layers.Dense(units=16, activation='relu'))\n",
    "nn_opt.add(tf.keras.layers.Dense(units=1, activation='sigmoid'))\n",
    "\n",
    "# Compile the model\n",
    "nn_opt.compile(optimizer='adam', loss='binary_crossentropy', metrics=['accuracy'])\n",
    "\n",
    "# Train the model with your optimization attempts\n",
    "history_opt = nn_opt.fit(X_train_scaled, y_train, epochs=your_optimization_epochs, validation_data=(X_test_scaled, y_test))\n",
    "\n",
    "# Evaluate the optimized model\n",
    "model_loss_opt, model_accuracy_opt = nn_opt.evaluate(X_test_scaled, y_test, verbose=2)\n",
    "print(f\"Optimized Model Loss: {model_loss_opt}, Optimized Model Accuracy: {model_accuracy_opt}\")\n",
    "\n",
    "# Save the optimized model to an HDF5 file\n",
    "nn_opt.save(\"AlphabetSoupCharity_Optimization.h5\")\n"
   ]
  }
 ],
 "metadata": {
  "language_info": {
   "name": "python"
  }
 },
 "nbformat": 4,
 "nbformat_minor": 2
}
